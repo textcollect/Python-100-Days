{
  "nbformat": 4,
  "nbformat_minor": 0,
  "metadata": {
    "colab": {
      "provenance": [],
      "private_outputs": true,
      "toc_visible": true,
      "authorship_tag": "ABX9TyNDNNyL5Or4mN30/SS3TIAO",
      "include_colab_link": true
    },
    "kernelspec": {
      "name": "python3",
      "display_name": "Python 3"
    },
    "language_info": {
      "name": "python"
    }
  },
  "cells": [
    {
      "cell_type": "markdown",
      "metadata": {
        "id": "view-in-github",
        "colab_type": "text"
      },
      "source": [
        "<a href=\"https://colab.research.google.com/github/textcollect/Python-100-Days/blob/main/Beginner.ipynb\" target=\"_parent\"><img src=\"https://colab.research.google.com/assets/colab-badge.svg\" alt=\"Open In Colab\"/></a>"
      ]
    },
    {
      "cell_type": "markdown",
      "source": [
        "## **Day 1**"
      ],
      "metadata": {
        "id": "O5CilwN_CGI9"
      }
    },
    {
      "cell_type": "markdown",
      "source": [
        "### Python input function"
      ],
      "metadata": {
        "id": "LZAk8aCJLY_A"
      }
    },
    {
      "cell_type": "code",
      "execution_count": null,
      "metadata": {
        "id": "VgJBLsHX3egF"
      },
      "outputs": [],
      "source": [
        "# the input() function gets executed first to prompt for user input\n",
        "print(\"Hello \" + input(\"What is your name? \") + \"!\")"
      ]
    },
    {
      "cell_type": "code",
      "source": [
        "# print length of user input\n",
        "print(len(input(\"What is your name? \")))"
      ],
      "metadata": {
        "id": "2lcHfv1sBP9_"
      },
      "execution_count": null,
      "outputs": []
    },
    {
      "cell_type": "markdown",
      "source": [
        "### Variables"
      ],
      "metadata": {
        "id": "fCpgYPwdC264"
      }
    },
    {
      "cell_type": "code",
      "source": [
        "# Switch 2 variables a and b\n",
        "a = 1\n",
        "b = 2\n",
        "# `,` is used instead of `+` as `+` concatenates strings only, while 'a' and 'b' are integers\n",
        "print('a:', a , '\\nb:', b)\n",
        "\n",
        "# Assign a new temporary variable to one of the variables a or b\n",
        "temp = b\n",
        "# Re-assign b to value of a\n",
        "b = a\n",
        "# Re-assign value of a to previous value of b which is now stored in variable 'temp'\n",
        "a = temp\n",
        "\n",
        "print('New a:', a , '\\nNew b:', b)"
      ],
      "metadata": {
        "id": "Nr4ABQD2DRUG"
      },
      "execution_count": null,
      "outputs": []
    },
    {
      "cell_type": "markdown",
      "source": [
        "### Band Name Generator"
      ],
      "metadata": {
        "id": "8ahS9g3UIfOO"
      }
    },
    {
      "cell_type": "code",
      "source": [
        "#1. Create a greeting for your program.\n",
        "print(\"Welcome to the Band Name Generator.\")\n",
        "\n",
        "#2. Ask the user for the city that they grew up in.\n",
        "# Make sure the input cursor shows on a new line:\n",
        "city = input(\"What is the name of the city you grew up in?\\n\")\n",
        "\n",
        "#3. Ask the user for the name of a pet.\n",
        "pet = input(\"If you have a pet, what would you name it?\\n\")\n",
        "\n",
        "#4. Combine the name of their city and pet and show them their band name.\n",
        "# Use f-string with the print() function\n",
        "print(f\"Your band name could be {city} {pet}!\")\n",
        "\n",
        "# Solution: https://replit.com/@appbrewery/band-name-generator-end"
      ],
      "metadata": {
        "id": "b5CRrZXIIp0o"
      },
      "execution_count": null,
      "outputs": []
    },
    {
      "cell_type": "markdown",
      "source": [
        "## **Day 2 - Understanding Data Types and How to Manipulate Strings**"
      ],
      "metadata": {
        "id": "fn-Vj-3eLJY6"
      }
    },
    {
      "cell_type": "markdown",
      "source": [
        "#### Lesson 5 - Data Types\n",
        "Add the digits from user input and print its sum"
      ],
      "metadata": {
        "id": "qc4PnMb10DwL"
      }
    },
    {
      "cell_type": "code",
      "source": [
        "two_digit_number = input(\"Digits to add up: \")\n",
        "\n",
        "sum = 0\n",
        "for digit in two_digit_number:\n",
        "    sum += int(digit)\n",
        "print(f\"Sum: {sum}\")"
      ],
      "metadata": {
        "id": "PhP9Q9Opy3Eg"
      },
      "execution_count": null,
      "outputs": []
    },
    {
      "cell_type": "markdown",
      "source": [
        "#### Lesson 6 - BMI Calculator\n",
        "Write a program that calculates the Body Mass Index (BMI) from a user's weight and height.\n",
        "The BMI is calculated by dividing a person's weight (in kg) by the square of their height (in m).\n",
        "\n",
        "NOTE: You should convert the bmi to a whole number and print out a whole number in order to pass all the tests."
      ],
      "metadata": {
        "id": "8HOXlC7Vz3yx"
      }
    },
    {
      "cell_type": "code",
      "source": [
        "# 1st input: enter height in meters e.g: 1.65\n",
        "height = input(\"Enter height in meters: \")\n",
        "# 2nd input: enter weight in kilograms e.g: 72\n",
        "weight = input(\"Enter weight in kilograms: \")\n",
        "# 🚨 Don't change the code above 👆\n",
        "# Write your code below this line 👇\n",
        "bmi = float(weight) / (float(height) ** 2)\n",
        "\n",
        "# Cast resulting bmi as an int\n",
        "print(int(bmi))"
      ],
      "metadata": {
        "id": "xDIpJtA5zeuY"
      },
      "execution_count": null,
      "outputs": []
    },
    {
      "cell_type": "markdown",
      "source": [
        "#### Lesson 7 - Life in Weeks\n",
        "Create a program using maths and f-Strings that tells us how many weeks we have left, if we live until 90 years old.\n",
        "\n",
        "It will take your current age as the input and output a message with our time left in this format:\n",
        "\n",
        "You have x weeks left.\n",
        "\n",
        "Where x is replaced with the actual calculated number of weeks the input age has left until age 90.\n",
        "\n",
        "Warning your output should match the Example Output format exactly, even the positions of the commas and full stops.\n",
        "\n",
        "Example Input:\n",
        "56\n",
        "\n",
        "Example Output:\n",
        "You have 1768 weeks left."
      ],
      "metadata": {
        "id": "9cHh5XXY2y9u"
      }
    },
    {
      "cell_type": "code",
      "source": [
        "age = input(\"Current age: \")\n",
        "\n",
        "death = 90\n",
        "years_left = death - int(age)\n",
        "# 1 year = 52 weeks\n",
        "weeks_left = years_left * 52\n",
        "print(f\"You have {weeks_left} weeks left.\")"
      ],
      "metadata": {
        "id": "Xz6FoB483Q3a"
      },
      "execution_count": null,
      "outputs": []
    },
    {
      "cell_type": "markdown",
      "source": [
        "### Tip Calculator\n",
        "**Instructions**\n",
        "\n",
        "If the bill was $150.00, split between 5 people, with 12% tip.\n",
        "\n",
        "Each person should pay (150.00 / 5) * 1.12 = 33.6\n",
        "\n",
        "Format the result to 2 decimal places = 33.60\n",
        "\n",
        "Thus everyone's share of the total bill is $30.00 plus a $3.60 tip.\n",
        "\n",
        "Tip: There are 2 ways to round a number. You might have to do some Googling to solve this.💪\n",
        "\n",
        "**Example Input**\n",
        "\n",
        "    Welcome to the tip calculator!\n",
        "    What was the total bill? $124.56\n",
        "    How much tip would you like to give? 10, 12, or 15? 12\n",
        "    How many people to split the bill? 7\n",
        "\n",
        "**Example Output**\n",
        "\n",
        "    Each person should pay: $19.93\n",
        "\n",
        "**Hint**\n",
        "\n",
        "1. [How to round a number to 2 decimal places in Python](https://www.google.com/search?q=how+to+round+number+to+2+decimal+places+python&oq=how+to+round+number+to+2+decimal)\n",
        "2. [How to limit a float to two decimal places in Python](https://www.kite.com/python/answers/how-to-limit-a-float-to-two-decimal-places-in-python)\n",
        "\n",
        "**Solution**\n",
        "\n",
        "https://replit.com/@appbrewery/tip-calculator-end"
      ],
      "metadata": {
        "id": "8Zf_Njar8oWe"
      }
    },
    {
      "cell_type": "code",
      "source": [
        "#If the bill was $150.00, split between 5 people, with 12% tip.\n",
        "\n",
        "#Each person should pay (150.00 / 5) * 1.12 = 33.6\n",
        "#Format the result to 2 decimal places = 33.60\n",
        "\n",
        "#Tip: There are 2 ways to round a number. You might have to do some Googling to solve this.💪\n",
        "\n",
        "#Write your code below this line 👇\n",
        "print(\"Welcome to the tip calculator!\")\n",
        "total = input(\"What was the total bill? \")\n",
        "tip = input(\"How much tip% would you like to give? 10, 12, or 15? \")\n",
        "ppl = input(\"How many people to split the bill? \")\n",
        "\n",
        "# bill_per_person = total * (1 + tip/100) / ppl\n",
        "# Get total bill including tip, casting them as floats\n",
        "total = float(total) * (float(tip) / 100 + 1)\n",
        "\n",
        "# divide by the number of people to split the bill with\n",
        "bill_person = total / int(ppl)\n",
        "\n",
        "# Print the result, rounded off by 2 decimal places using `:.2f` in the {variable}\n",
        "# i.e. {variable:.2f}\n",
        "# alternatively, format the variable first (returns a string)\n",
        "# bill_person = \"{:.2f}\".format(bill_person)\n",
        "print(f\"Each person should pay: ${bill_person}\")"
      ],
      "metadata": {
        "id": "1UbLKGv9BdMU"
      },
      "execution_count": null,
      "outputs": []
    },
    {
      "cell_type": "markdown",
      "source": [
        "## Day 3 - Control Flow and Logical Operators"
      ],
      "metadata": {
        "id": "vFTgjR7j15vK"
      }
    },
    {
      "cell_type": "markdown",
      "source": [
        "#### Lesson 8 - Odd or Even\n",
        "Write a program that works out whether if a given number is an odd or even number.\n",
        "\n",
        "Even numbers can be divided by 2 with no remainder.\n",
        "\n",
        "e.g. 86 is even because 86 ÷ 2 = 43\n",
        "\n",
        "43 does not have any decimal places. Therefore the division is clean.\n",
        "\n",
        "e.g. 59 is odd because 59 ÷ 2 = 29.5\n",
        "\n",
        "29.5 is not a whole number, it has decimal places. Therefore there is a remainder of 0.5, so the division is not clean.\n",
        "\n",
        "The modulo is written as a percentage sign (%) in Python. It gives you the remainder after a division.\n",
        "\n",
        "e.g.\n",
        "\n",
        "6 ÷ 2 = 3 with no remainder.\n",
        "\n",
        "therefore: 6 % 2 = 0\n",
        "\n",
        "5 ÷ 2 = 2 x 2 + 1, remainder is 1.\n",
        "\n",
        "therefore: 5 % 2 = 1\n",
        "\n",
        "14 ÷ 4 = 3 x 4 + 2, remainder is 2.\n",
        "\n",
        "therefore: 14 % 4 = 2\n",
        "\n",
        "Warning your output should match the Example Output format exactly, even the positions of the commas and full stops.\n",
        "Example 1 Input\n",
        "\n",
        "    43\n",
        "\n",
        "Example 1 Output\n",
        "\n",
        "    This is an odd number."
      ],
      "metadata": {
        "id": "-ZOGg3Ra3KfS"
      }
    },
    {
      "cell_type": "code",
      "source": [
        "# Which number do you want to check?\n",
        "number = int(input(\"Number to check: \"))\n",
        "# 🚨 Don't change the code above 👆\n",
        "# Write your code below this line 👇\n",
        "if number % 2 == 0:\n",
        "    print(\"This is an even number.\")\n",
        "else:\n",
        "    print(\"This is an odd number.\")"
      ],
      "metadata": {
        "id": "VrGp7q1c3vt3"
      },
      "execution_count": null,
      "outputs": []
    },
    {
      "cell_type": "markdown",
      "source": [
        "#### Prime\n",
        "A prime number is a natural number greater than 1 that is not a product of two smaller natural numbers.\n",
        "i.e. only division by itself and 1 gives a remainder of 0.\n",
        "\n",
        "Using trial division method - a basic method of checking for prime.\n",
        "\n",
        "This method divides **_n_** by each integer from 2 up to the square root of **_n_**.\n",
        "Any such integer dividing **_n_** evenly establishes as **_n_** as composite; otherwise it is prime.\n",
        "Integers larger than the square root do not need to be checked because, whenever **_n = a * b_**,\n",
        "one of the two factors **_a_** and **_b_** is less than or equal to the square root of **_n_**.\n",
        "Another optimization is to check only primes as factors in this range.\n"
      ],
      "metadata": {
        "id": "VifqDJ1S9xU6"
      }
    },
    {
      "cell_type": "code",
      "source": [
        "# Trial division\n",
        "def main():\n",
        "    num = int(input(\"Number to check: \")) # Number cast as int\n",
        "\n",
        "    if prime_check(num):\n",
        "        print(f\"{num} is a prime number.\")\n",
        "    else:\n",
        "        print(f\"{num} is not prime number.\")\n",
        "\n",
        "\n",
        "def prime_check(num):\n",
        "    # Get the square root of the number\n",
        "    sqrt = num ** 0.5 # Float\n",
        "    is_prime = True\n",
        "\n",
        "    # If number is less than or equal to 1, it is not a prime\n",
        "    if num <= 1:\n",
        "        is_prime = False\n",
        "        return is_prime\n",
        "\n",
        "    # From i = 2 to i = n^(1/2), if any `i` divides the number, it is not a prime\n",
        "    for i in range(2, int(sqrt + 1)):\n",
        "        if num % i == 0:\n",
        "            is_prime = False\n",
        "            break\n",
        "\n",
        "    return is_prime\n",
        "\n",
        "main()"
      ],
      "metadata": {
        "id": "UO3P-CNn4xae"
      },
      "execution_count": null,
      "outputs": []
    },
    {
      "cell_type": "markdown",
      "source": [
        "#### Lesson 9 - BMI 2.0\n",
        "Write a program that interprets the Body Mass Index (BMI) based on a user's weight and height.\n",
        "\n",
        "It should tell them the interpretation of their BMI based on the BMI value.\n",
        "\n",
        "- Under 18.5 they are underweight\n",
        "- Over 18.5 but below 25 they have a normal weight\n",
        "- Equal to or over 25 but below 30 they are slightly overweight\n",
        "- Equal to or over 30 but below 35 they are obese\n",
        "- Equal to or over 35 they are clinically obese.\n",
        "\n",
        "\n",
        "    \"Your BMI is 18.28678, you are underweight.\"\n",
        "    \"Your BMI is 22.0, you have a normal weight.\"\n",
        "    \"Your BMI is 28.50752, you are slightly overweight.\"\n",
        "    \"Your BMI is 32.56189, you are obese.\"\n",
        "    \"Your BMI is 37.50000, you are clinically obese.\""
      ],
      "metadata": {
        "id": "33TCTgXTKoAd"
      }
    },
    {
      "cell_type": "code",
      "source": [
        "# Enter your height in meters e.g., 1.55\n",
        "height = float(input(\"Enter your height in meters: \"))\n",
        "# Enter your weight in kilograms e.g., 72\n",
        "weight = int(input(\"Enter your weight in kilograms: \"))\n",
        "# 🚨 Don't change the code above 👆\n",
        "\n",
        "#Write your code below this line 👇\n",
        "bmi = weight / (height ** 2)\n",
        "\n",
        "if bmi < 18.5:\n",
        "    print(f\"Your BMI is {bmi:.1f}, you are underweight.\")\n",
        "elif bmi > 18.5 and bmi < 25:\n",
        "    print(f\"Your BMI is {bmi:.1f}, you have a normal weight.\")\n",
        "elif bmi < 30:\n",
        "    print(f\"Your BMI is {bmi:.1f}, you are slightly overweight.\")\n",
        "elif bmi < 35:\n",
        "    print(f\"Your BMI is {bmi:.1f}, you are obese.\")\n",
        "else:\n",
        "    print(f\"Your BMI is {bmi:.1f}, you are clinically obese.\")"
      ],
      "metadata": {
        "id": "VFfyLD3FLA9o"
      },
      "execution_count": null,
      "outputs": []
    },
    {
      "cell_type": "markdown",
      "source": [
        "#### Lesson 10 - Leap Year\n",
        "Write a program that works out whether if a given year is a leap year. A normal year has 365 days, leap years have 366, with an extra day in February. The reason why we have leap years is really fascinating, this video does it more justice.\n",
        "\n",
        "This is how you work out whether if a particular year is a leap year.\n",
        "\n",
        "- on every year that is divisible by 4 with no remainder\n",
        "\n",
        "- except every year that is evenly divisible by 100 with no remainder\n",
        "\n",
        "- unless the year is also divisible by 400 with no remainder\n",
        "\n",
        "If english is not your first language or if the above logic is confusing, try using this flow chart .\n",
        "\n",
        "e.g. The year 2000:\n",
        "\n",
        "2000 ÷ 4 = 500 (Leap)\n",
        "\n",
        "2000 ÷ 100 = 20 (Not Leap)\n",
        "\n",
        "2000 ÷ 400 = 5 (Leap!)\n",
        "\n",
        "So the year 2000 is a leap year.\n",
        "\n",
        "But the year 2100 is not a leap year because:\n",
        "\n",
        "2100 ÷ 4 = 525 (Leap)\n",
        "\n",
        "2100 ÷ 100 = 21 (Not Leap)\n",
        "\n",
        "2100 ÷ 400 = 5.25 (Not Leap)\n",
        "\n",
        "Warning your output should match the Example Output format exactly, including spelling an punctuation.\n",
        "\n",
        "Example Input 1\n",
        "\n",
        "    2400\n",
        "\n",
        "Example Output 1\n",
        "\n",
        "    Leap year\n",
        "\n",
        "Example Input 2\n",
        "\n",
        "    1989\n",
        "\n",
        "Example Output 2\n",
        "\n",
        "    Not leap year"
      ],
      "metadata": {
        "id": "IO1r9Lu5N9TT"
      }
    },
    {
      "cell_type": "code",
      "source": [
        "# Which year do you want to check?\n",
        "year = int(input(\"Year: \"))\n",
        "# 🚨 Don't change the code above 👆\n",
        "\n",
        "# Write your code below this line 👇\n",
        "# on every year that is divisible by 4 with no remainder\n",
        "# If year mod 4 == 0, it is a leap year\n",
        "    # if year mod 100 == 0 and year mod 400 == 0, it is a leap year\n",
        "    # else if year mod 100 == 0, it is not a leap year\n",
        "# Else, it is not a leap year\n",
        "\n",
        "if year % 4 == 0:\n",
        "    if year % 100 == 0 and year % 400 == 0:\n",
        "        print(\"Leap year\")\n",
        "    elif year % 100 == 0:\n",
        "        print(\"Not leap year\")\n",
        "    else:\n",
        "        print(\"Leap year\")\n",
        "else:\n",
        "    print(\"Not leap year\")"
      ],
      "metadata": {
        "id": "05LMZzuqPJAd"
      },
      "execution_count": null,
      "outputs": []
    }
  ]
}