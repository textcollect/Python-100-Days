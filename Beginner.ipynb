{
  "nbformat": 4,
  "nbformat_minor": 0,
  "metadata": {
    "colab": {
      "provenance": [],
      "private_outputs": true,
      "toc_visible": true,
      "authorship_tag": "ABX9TyMjP5htNErraoQ6a9+TO8in",
      "include_colab_link": true
    },
    "kernelspec": {
      "name": "python3",
      "display_name": "Python 3"
    },
    "language_info": {
      "name": "python"
    }
  },
  "cells": [
    {
      "cell_type": "markdown",
      "metadata": {
        "id": "view-in-github",
        "colab_type": "text"
      },
      "source": [
        "<a href=\"https://colab.research.google.com/github/textcollect/Python-100-Days/blob/main/Beginner.ipynb\" target=\"_parent\"><img src=\"https://colab.research.google.com/assets/colab-badge.svg\" alt=\"Open In Colab\"/></a>"
      ]
    },
    {
      "cell_type": "markdown",
      "source": [
        "## **Day 1**"
      ],
      "metadata": {
        "id": "O5CilwN_CGI9"
      }
    },
    {
      "cell_type": "markdown",
      "source": [
        "### Python input function"
      ],
      "metadata": {
        "id": "LZAk8aCJLY_A"
      }
    },
    {
      "cell_type": "code",
      "execution_count": null,
      "metadata": {
        "id": "VgJBLsHX3egF"
      },
      "outputs": [],
      "source": [
        "# the input() function gets executed first to prompt for user input\n",
        "print(\"Hello \" + input(\"What is your name? \") + \"!\")"
      ]
    },
    {
      "cell_type": "code",
      "source": [
        "# print length of user input\n",
        "print(len(input(\"What is your name? \")))"
      ],
      "metadata": {
        "id": "2lcHfv1sBP9_"
      },
      "execution_count": null,
      "outputs": []
    },
    {
      "cell_type": "markdown",
      "source": [
        "### Variables"
      ],
      "metadata": {
        "id": "fCpgYPwdC264"
      }
    },
    {
      "cell_type": "code",
      "source": [
        "# Switch 2 variables a and b\n",
        "a = 1\n",
        "b = 2\n",
        "# `,` is used instead of `+` as `+` concatenates strings only, while 'a' and 'b' are integers\n",
        "print('a:', a , '\\nb:', b)\n",
        "\n",
        "# Assign a new temporary variable to one of the variables a or b\n",
        "temp = b\n",
        "# Re-assign b to value of a\n",
        "b = a\n",
        "# Re-assign value of a to previous value of b which is now stored in variable 'temp'\n",
        "a = temp\n",
        "\n",
        "print('New a:', a , '\\nNew b:', b)"
      ],
      "metadata": {
        "id": "Nr4ABQD2DRUG"
      },
      "execution_count": null,
      "outputs": []
    },
    {
      "cell_type": "markdown",
      "source": [
        "### Band Name Generator"
      ],
      "metadata": {
        "id": "8ahS9g3UIfOO"
      }
    },
    {
      "cell_type": "code",
      "source": [
        "#1. Create a greeting for your program.\n",
        "print(\"Welcome to the Band Name Generator.\")\n",
        "\n",
        "#2. Ask the user for the city that they grew up in.\n",
        "# Make sure the input cursor shows on a new line:\n",
        "city = input(\"What is the name of the city you grew up in?\\n\")\n",
        "\n",
        "#3. Ask the user for the name of a pet.\n",
        "pet = input(\"If you have a pet, what would you name it?\\n\")\n",
        "\n",
        "#4. Combine the name of their city and pet and show them their band name.\n",
        "# Use f-string with the print() function\n",
        "print(f\"Your band name could be {city} {pet}!\")\n",
        "\n",
        "# Solution: https://replit.com/@appbrewery/band-name-generator-end"
      ],
      "metadata": {
        "id": "b5CRrZXIIp0o"
      },
      "execution_count": null,
      "outputs": []
    },
    {
      "cell_type": "markdown",
      "source": [
        "## **Day 2 - Understanding Data Types and How to Manipulate Strings**"
      ],
      "metadata": {
        "id": "fn-Vj-3eLJY6"
      }
    },
    {
      "cell_type": "markdown",
      "source": [
        "#### Lesson 5 - Data Types\n",
        "Add the digits from user input and print its sum"
      ],
      "metadata": {
        "id": "qc4PnMb10DwL"
      }
    },
    {
      "cell_type": "code",
      "source": [
        "two_digit_number = input(\"Digits to add up: \")\n",
        "\n",
        "sum = 0\n",
        "for digit in two_digit_number:\n",
        "    sum += int(digit)\n",
        "print(f\"Sum: {sum}\")"
      ],
      "metadata": {
        "id": "PhP9Q9Opy3Eg"
      },
      "execution_count": null,
      "outputs": []
    },
    {
      "cell_type": "markdown",
      "source": [
        "#### Lesson 6 - BMI Calculator\n",
        "Write a program that calculates the Body Mass Index (BMI) from a user's weight and height.\n",
        "The BMI is calculated by dividing a person's weight (in kg) by the square of their height (in m).\n",
        "\n",
        "NOTE: You should convert the bmi to a whole number and print out a whole number in order to pass all the tests."
      ],
      "metadata": {
        "id": "8HOXlC7Vz3yx"
      }
    },
    {
      "cell_type": "code",
      "source": [
        "# 1st input: enter height in meters e.g: 1.65\n",
        "height = input(\"Enter height in meters: \")\n",
        "# 2nd input: enter weight in kilograms e.g: 72\n",
        "weight = input(\"Enter weight in kilograms: \")\n",
        "# 🚨 Don't change the code above 👆\n",
        "# Write your code below this line 👇\n",
        "bmi = float(weight) / (float(height) ** 2)\n",
        "\n",
        "# Cast resulting bmi as an int\n",
        "print(int(bmi))"
      ],
      "metadata": {
        "id": "xDIpJtA5zeuY"
      },
      "execution_count": null,
      "outputs": []
    },
    {
      "cell_type": "markdown",
      "source": [
        "#### Lesson 7 - Life in Weeks\n",
        "Create a program using maths and f-Strings that tells us how many weeks we have left, if we live until 90 years old.\n",
        "\n",
        "It will take your current age as the input and output a message with our time left in this format:\n",
        "\n",
        "You have x weeks left.\n",
        "\n",
        "Where x is replaced with the actual calculated number of weeks the input age has left until age 90.\n",
        "\n",
        "Warning your output should match the Example Output format exactly, even the positions of the commas and full stops.\n",
        "\n",
        "Example Input:\n",
        "56\n",
        "\n",
        "Example Output:\n",
        "You have 1768 weeks left."
      ],
      "metadata": {
        "id": "9cHh5XXY2y9u"
      }
    },
    {
      "cell_type": "code",
      "source": [
        "age = input(\"Current age: \")\n",
        "\n",
        "death = 90\n",
        "years_left = death - int(age)\n",
        "# 1 year = 52 weeks\n",
        "weeks_left = years_left * 52\n",
        "print(f\"You have {weeks_left} weeks left.\")"
      ],
      "metadata": {
        "id": "Xz6FoB483Q3a"
      },
      "execution_count": null,
      "outputs": []
    },
    {
      "cell_type": "markdown",
      "source": [
        "### Tip Calculator\n",
        "**Instructions**\n",
        "\n",
        "If the bill was $150.00, split between 5 people, with 12% tip.\n",
        "\n",
        "Each person should pay (150.00 / 5) * 1.12 = 33.6\n",
        "\n",
        "Format the result to 2 decimal places = 33.60\n",
        "\n",
        "Thus everyone's share of the total bill is $30.00 plus a $3.60 tip.\n",
        "\n",
        "Tip: There are 2 ways to round a number. You might have to do some Googling to solve this.💪\n",
        "\n",
        "**Example Input**\n",
        "\n",
        "    Welcome to the tip calculator!\n",
        "    What was the total bill? $124.56\n",
        "    How much tip would you like to give? 10, 12, or 15? 12\n",
        "    How many people to split the bill? 7\n",
        "\n",
        "**Example Output**\n",
        "\n",
        "    Each person should pay: $19.93\n",
        "\n",
        "**Hint**\n",
        "\n",
        "1. [How to round a number to 2 decimal places in Python](https://www.google.com/search?q=how+to+round+number+to+2+decimal+places+python&oq=how+to+round+number+to+2+decimal)\n",
        "2. [How to limit a float to two decimal places in Python](https://www.kite.com/python/answers/how-to-limit-a-float-to-two-decimal-places-in-python)\n",
        "\n",
        "**Solution**\n",
        "\n",
        "https://replit.com/@appbrewery/tip-calculator-end"
      ],
      "metadata": {
        "id": "8Zf_Njar8oWe"
      }
    },
    {
      "cell_type": "code",
      "source": [
        "#If the bill was $150.00, split between 5 people, with 12% tip.\n",
        "\n",
        "#Each person should pay (150.00 / 5) * 1.12 = 33.6\n",
        "#Format the result to 2 decimal places = 33.60\n",
        "\n",
        "#Tip: There are 2 ways to round a number. You might have to do some Googling to solve this.💪\n",
        "\n",
        "#Write your code below this line 👇\n",
        "print(\"Welcome to the tip calculator!\")\n",
        "total = input(\"What was the total bill? \")\n",
        "tip = input(\"How much tip% would you like to give? 10, 12, or 15? \")\n",
        "ppl = input(\"How many people to split the bill? \")\n",
        "\n",
        "# bill_per_person = total * (1 + tip/100) / ppl\n",
        "# Get total bill including tip, casting them as floats\n",
        "total = float(total) * (float(tip) / 100 + 1)\n",
        "\n",
        "# divide by the number of people to split the bill with\n",
        "bill_person = total / int(ppl)\n",
        "\n",
        "# Print the result, rounded off by 2 decimal places using `:.2f` in the {variable}\n",
        "# i.e. {variable:.2f}\n",
        "# alternatively, format the variable first (returns a string)\n",
        "# bill_person = \"{:.2f}\".format(bill_person)\n",
        "print(f\"Each person should pay: ${bill_person}\")"
      ],
      "metadata": {
        "id": "1UbLKGv9BdMU"
      },
      "execution_count": null,
      "outputs": []
    },
    {
      "cell_type": "markdown",
      "source": [
        "## Day 3 - Control Flow and Logical Operators"
      ],
      "metadata": {
        "id": "vFTgjR7j15vK"
      }
    },
    {
      "cell_type": "markdown",
      "source": [
        "#### Lesson 8 - Odd or Even\n",
        "Write a program that works out whether if a given number is an odd or even number.\n",
        "\n",
        "Even numbers can be divided by 2 with no remainder.\n",
        "\n",
        "e.g. 86 is even because 86 ÷ 2 = 43\n",
        "\n",
        "43 does not have any decimal places. Therefore the division is clean.\n",
        "\n",
        "e.g. 59 is odd because 59 ÷ 2 = 29.5\n",
        "\n",
        "29.5 is not a whole number, it has decimal places. Therefore there is a remainder of 0.5, so the division is not clean.\n",
        "\n",
        "The modulo is written as a percentage sign (%) in Python. It gives you the remainder after a division.\n",
        "\n",
        "e.g.\n",
        "\n",
        "6 ÷ 2 = 3 with no remainder.\n",
        "\n",
        "therefore: 6 % 2 = 0\n",
        "\n",
        "5 ÷ 2 = 2 x 2 + 1, remainder is 1.\n",
        "\n",
        "therefore: 5 % 2 = 1\n",
        "\n",
        "14 ÷ 4 = 3 x 4 + 2, remainder is 2.\n",
        "\n",
        "therefore: 14 % 4 = 2\n",
        "\n",
        "Warning your output should match the Example Output format exactly, even the positions of the commas and full stops.\n",
        "Example 1 Input\n",
        "\n",
        "    43\n",
        "\n",
        "Example 1 Output\n",
        "\n",
        "    This is an odd number."
      ],
      "metadata": {
        "id": "-ZOGg3Ra3KfS"
      }
    },
    {
      "cell_type": "code",
      "source": [
        "# Which number do you want to check?\n",
        "number = int(input(\"Number to check: \"))\n",
        "# 🚨 Don't change the code above 👆\n",
        "# Write your code below this line 👇\n",
        "if number % 2 == 0:\n",
        "    print(\"This is an even number.\")\n",
        "else:\n",
        "    print(\"This is an odd number.\")"
      ],
      "metadata": {
        "id": "VrGp7q1c3vt3"
      },
      "execution_count": null,
      "outputs": []
    },
    {
      "cell_type": "markdown",
      "source": [
        "#### Prime\n",
        "A prime number is a natural number greater than 1 that is not a product of two smaller natural numbers.\n",
        "i.e. only division by itself and 1 gives a remainder of 0.\n",
        "\n",
        "Using trial division method - a basic method of checking for prime.\n",
        "\n",
        "This method divides **_n_** by each integer from 2 up to the square root of **_n_**.\n",
        "Any such integer dividing **_n_** evenly establishes as **_n_** as composite; otherwise it is prime.\n",
        "Integers larger than the square root do not need to be checked because, whenever **_n = a * b_**,\n",
        "one of the two factors **_a_** and **_b_** is less than or equal to the square root of **_n_**.\n",
        "Another optimization is to check only primes as factors in this range.\n"
      ],
      "metadata": {
        "id": "VifqDJ1S9xU6"
      }
    },
    {
      "cell_type": "code",
      "source": [
        "# Trial division\n",
        "def main():\n",
        "    num = int(input(\"Number to check: \")) # Number cast as int\n",
        "\n",
        "    if prime_check(num):\n",
        "        print(f\"{num} is a prime number.\")\n",
        "    else:\n",
        "        print(f\"{num} is not prime number.\")\n",
        "\n",
        "\n",
        "def prime_check(num):\n",
        "    # Get the square root of the number\n",
        "    sqrt = num ** 0.5 # Float\n",
        "    is_prime = True\n",
        "\n",
        "    # If number is less than or equal to 1, it is not a prime\n",
        "    if num <= 1:\n",
        "        is_prime = False\n",
        "        return is_prime\n",
        "\n",
        "    # From i = 2 to i = n^(1/2), if any `i` divides the number, it is not a prime\n",
        "    for i in range(2, int(sqrt + 1)):\n",
        "        if num % i == 0:\n",
        "            is_prime = False\n",
        "            break\n",
        "\n",
        "    return is_prime\n",
        "\n",
        "main()"
      ],
      "metadata": {
        "id": "UO3P-CNn4xae"
      },
      "execution_count": null,
      "outputs": []
    },
    {
      "cell_type": "markdown",
      "source": [
        "#### Lesson 9 - BMI 2.0\n",
        "Write a program that interprets the Body Mass Index (BMI) based on a user's weight and height.\n",
        "\n",
        "It should tell them the interpretation of their BMI based on the BMI value.\n",
        "\n",
        "- Under 18.5 they are underweight\n",
        "- Over 18.5 but below 25 they have a normal weight\n",
        "- Equal to or over 25 but below 30 they are slightly overweight\n",
        "- Equal to or over 30 but below 35 they are obese\n",
        "- Equal to or over 35 they are clinically obese.\n",
        "\n",
        "\n",
        "    \"Your BMI is 18.28678, you are underweight.\"\n",
        "    \"Your BMI is 22.0, you have a normal weight.\"\n",
        "    \"Your BMI is 28.50752, you are slightly overweight.\"\n",
        "    \"Your BMI is 32.56189, you are obese.\"\n",
        "    \"Your BMI is 37.50000, you are clinically obese.\""
      ],
      "metadata": {
        "id": "33TCTgXTKoAd"
      }
    },
    {
      "cell_type": "code",
      "source": [
        "# Enter your height in meters e.g., 1.55\n",
        "height = float(input(\"Enter your height in meters: \"))\n",
        "# Enter your weight in kilograms e.g., 72\n",
        "weight = int(input(\"Enter your weight in kilograms: \"))\n",
        "# 🚨 Don't change the code above 👆\n",
        "\n",
        "#Write your code below this line 👇\n",
        "bmi = weight / (height ** 2)\n",
        "\n",
        "if bmi < 18.5:\n",
        "    print(f\"Your BMI is {bmi:.1f}, you are underweight.\")\n",
        "elif bmi > 18.5 and bmi < 25:\n",
        "    print(f\"Your BMI is {bmi:.1f}, you have a normal weight.\")\n",
        "elif bmi < 30:\n",
        "    print(f\"Your BMI is {bmi:.1f}, you are slightly overweight.\")\n",
        "elif bmi < 35:\n",
        "    print(f\"Your BMI is {bmi:.1f}, you are obese.\")\n",
        "else:\n",
        "    print(f\"Your BMI is {bmi:.1f}, you are clinically obese.\")"
      ],
      "metadata": {
        "id": "VFfyLD3FLA9o"
      },
      "execution_count": null,
      "outputs": []
    },
    {
      "cell_type": "markdown",
      "source": [
        "#### Lesson 10 - Leap Year\n",
        "Write a program that works out whether if a given year is a leap year. A normal year has 365 days, leap years have 366, with an extra day in February. The reason why we have leap years is really fascinating, this video does it more justice.\n",
        "\n",
        "This is how you work out whether if a particular year is a leap year.\n",
        "\n",
        "- on every year that is divisible by 4 with no remainder\n",
        "\n",
        "- except every year that is evenly divisible by 100 with no remainder\n",
        "\n",
        "- unless the year is also divisible by 400 with no remainder\n",
        "\n",
        "If english is not your first language or if the above logic is confusing, try using this flow chart .\n",
        "\n",
        "e.g. The year 2000:\n",
        "\n",
        "2000 ÷ 4 = 500 (Leap)\n",
        "\n",
        "2000 ÷ 100 = 20 (Not Leap)\n",
        "\n",
        "2000 ÷ 400 = 5 (Leap!)\n",
        "\n",
        "So the year 2000 is a leap year.\n",
        "\n",
        "But the year 2100 is not a leap year because:\n",
        "\n",
        "2100 ÷ 4 = 525 (Leap)\n",
        "\n",
        "2100 ÷ 100 = 21 (Not Leap)\n",
        "\n",
        "2100 ÷ 400 = 5.25 (Not Leap)\n",
        "\n",
        "Warning your output should match the Example Output format exactly, including spelling an punctuation.\n",
        "\n",
        "Example Input 1\n",
        "\n",
        "    2400\n",
        "\n",
        "Example Output 1\n",
        "\n",
        "    Leap year\n",
        "\n",
        "Example Input 2\n",
        "\n",
        "    1989\n",
        "\n",
        "Example Output 2\n",
        "\n",
        "    Not leap year"
      ],
      "metadata": {
        "id": "IO1r9Lu5N9TT"
      }
    },
    {
      "cell_type": "code",
      "source": [
        "# Which year do you want to check?\n",
        "year = int(input(\"Year: \"))\n",
        "# 🚨 Don't change the code above 👆\n",
        "\n",
        "# Write your code below this line 👇\n",
        "# on every year that is divisible by 4 with no remainder\n",
        "# If year mod 4 == 0, it is a leap year\n",
        "    # if year mod 100 == 0 and year mod 400 == 0, it is a leap year\n",
        "    # else if year mod 100 == 0, it is not a leap year\n",
        "    # else (year divisible only by 4 but not 100 or 400), it is a leap year\n",
        "# Else, it is not a leap year\n",
        "\n",
        "if year % 4 == 0:\n",
        "    if year % 100 == 0 and year % 400 == 0:\n",
        "        print(\"Leap year\")\n",
        "    elif year % 100 == 0:\n",
        "        print(\"Not leap year\")\n",
        "    else:\n",
        "        print(\"Leap year\")\n",
        "else:\n",
        "    print(\"Not leap year\")"
      ],
      "metadata": {
        "id": "05LMZzuqPJAd"
      },
      "execution_count": null,
      "outputs": []
    },
    {
      "cell_type": "markdown",
      "source": [
        "### Lesson 11 - Pizza Order Practice\n",
        "Congratulations, you've got a job at Python Pizza! Your first job is to build an automatic pizza order program.\n",
        "\n",
        "Based on a user's order, work out their final bill.\n",
        "\n",
        "Small pizza (S): $15\n",
        "\n",
        "Medium pizza (M): $20\n",
        "\n",
        "Large pizza (L): $25\n",
        "\n",
        "Add pepperoni for small pizza (Y or N): +$2\n",
        "\n",
        "Add pepperoni for medium or large pizza (Y or N): +$3\n",
        "\n",
        "Add extra cheese for any size pizza (Y or N): +$1\n",
        "\n",
        "Example Input\n",
        "\n",
        "    L\n",
        "    Y\n",
        "    N\n",
        "\n",
        "Example Output\n",
        "\n",
        "    Thank you for choosing Python Pizza Deliveries!\n",
        "    Your final bill is: $28."
      ],
      "metadata": {
        "id": "HP5Xm49nBTra"
      }
    },
    {
      "cell_type": "code",
      "source": [
        "print(\"Thank you for choosing Python Pizza Deliveries!\")\n",
        "size = input(\"What size pizza do you want? S, M, or L: \") # What size pizza do you want? S, M, or L\n",
        "add_pepperoni = input(\"Do you want pepperoni? Y or N: \") # Do you want pepperoni? Y or N\n",
        "extra_cheese = input(\"Do you want extra cheese? Y or N: \") # Do you want extra cheese? Y or N\n",
        "# 🚨 Don't change the code above 👆\n",
        "# Write your code below this line 👇\n",
        "bill = 0\n",
        "\n",
        "if size == \"S\":\n",
        "    bill += 15\n",
        "    if add_pepperoni == \"Y\":\n",
        "        bill += 2\n",
        "        if extra_cheese == \"Y\":\n",
        "            bill += 1\n",
        "    elif add_pepperoni == \"N\" and extra_cheese == \"Y\":\n",
        "        bill += 1\n",
        "elif size == \"M\":\n",
        "    bill += 20\n",
        "    if add_pepperoni == \"Y\":\n",
        "        bill += 3\n",
        "        if extra_cheese == \"Y\":\n",
        "            bill += 1\n",
        "    elif add_pepperoni == \"N\" and extra_cheese == \"Y\":\n",
        "        bill += 1\n",
        "elif size == \"L\":\n",
        "    bill += 25\n",
        "    if add_pepperoni == \"Y\":\n",
        "        bill += 3\n",
        "        if extra_cheese == \"Y\":\n",
        "            bill += 1\n",
        "    elif add_pepperoni == \"N\" and extra_cheese == \"Y\":\n",
        "        bill += 1\n",
        "\n",
        "print(f\"Your final bill is: ${bill}.\")"
      ],
      "metadata": {
        "id": "EVShy8fnBbHK"
      },
      "execution_count": null,
      "outputs": []
    },
    {
      "cell_type": "markdown",
      "source": [
        "### Lesson 12 - Love Calculator\n",
        "You are going to write a program that tests the compatibility between two people.\n",
        "\n",
        "To work out the love score between two people:\n",
        "\n",
        "1. Take both people's names and check for the number of times the letters in the word TRUE occurs.\n",
        "\n",
        "2. Then check for the number of times the letters in the word LOVE occurs.\n",
        "\n",
        "3. Then combine these numbers to make a 2 digit number.\n",
        "\n",
        "For Love Scores less than 10 or greater than 90, the message should be:\n",
        "\n",
        "    \"Your score is *x*, you go together like coke and mentos.\"\n",
        "\n",
        "For Love Scores between 40 and 50, the message should be:\n",
        "\n",
        "    \"Your score is *y*, you are alright together.\"\n",
        "\n",
        "Otherwise, the message will just be their score. e.g.:\n",
        "\n",
        "    \"Your score is *z*.\"\n",
        "\n",
        "e.g.\n",
        "\n",
        "name1 = \"Angela Yu\"\n",
        "name2 = \"Jack Bauer\"\n",
        "\n",
        "T occurs 0 times\n",
        "\n",
        "R occurs 1 time\n",
        "\n",
        "U occurs 2 times\n",
        "\n",
        "E occurs 2 times\n",
        "\n",
        "Total = 5\n",
        "\n",
        "L occurs 1 time\n",
        "\n",
        "O occurs 0 times\n",
        "\n",
        "V occurs 0 times\n",
        "\n",
        "E occurs 2 times\n",
        "\n",
        "Total = 3\n",
        "\n",
        "Love Score = 53\n",
        "\n",
        "Print: \"Your score is 53.\"\n",
        "\n",
        "These functions will help you:\n",
        "\n",
        "lower() count()\n",
        "\n",
        "Example Input 1\n",
        "\n",
        "    Kanye West\n",
        "    Kim Kardashian\n",
        "\n",
        "Example Output 1\n",
        "\n",
        "    The Love Calculator is calculating your score...\n",
        "    Your score is 42, you are alright together."
      ],
      "metadata": {
        "id": "cxccaegWHMzk"
      }
    },
    {
      "cell_type": "code",
      "source": [
        "print(\"The Love Calculator is calculating your score...\")\n",
        "name1 = input(\"What is your name? \") # What is your name?\n",
        "name2 = input(\"What is their name? \") # What is their name?\n",
        "# 🚨 Don't change the code above 👆\n",
        "# Write your code below this line 👇\n",
        "\n",
        "# Concatenate both strings together and remove whitespaces\n",
        "combined = (name1.upper() + name2.upper()).replace(\" \", \"\")\n",
        "\n",
        "occurenceT = 0\n",
        "occurenceL = 0\n",
        "# for each character in 'combined',\n",
        "for char in combined:\n",
        "    # if char is in \"TRUE\", increase the occurenceT by 1\n",
        "    if char in list(\"TRUE\"):\n",
        "        occurenceT += 1\n",
        "    # since we are counting \"TRUE\" and \"LOVE\" separately, use `if` and not `elif`\n",
        "    # if char is in \"LOVE\", increase the occurence by 1\n",
        "    if char in list(\"LOVE\"):\n",
        "        occurenceL += 1\n",
        "\"\"\"\n",
        "# Alternatively, using count\n",
        "t = combined.count(\"t\")\n",
        "r = combined.count(\"r\")\n",
        "u = combined.count(\"u\")\n",
        "e = combined.count(\"e\")\n",
        "first_digit = t + r + u + e\n",
        "\n",
        "l = combined.count(\"l\")\n",
        "o = combined.count(\"o\")\n",
        "v = combined.count(\"v\")\n",
        "e = combined.count(\"e\")\n",
        "second_digit = l + o + v + e\n",
        "score = str(first_digit) + str(second_digit)\n",
        "\"\"\"\n",
        "\n",
        "# Concatenate the 2 occurence, casting them as strings first\n",
        "score = str(occurenceT) + str(occurenceL)\n",
        "\n",
        "# Cast score as int again to compare against the conditions\n",
        "if int(score) < 10 or int(score) > 90:\n",
        "    print(f\"Your score is {score}, you go together like coke and mentos.\")\n",
        "elif int(score) >= 40 and int(score) <= 50:\n",
        "    print(f\"Your score is {score}, you are alright together.\")\n",
        "else:\n",
        "    print(f\"Your score is {score}.\")"
      ],
      "metadata": {
        "id": "W3JS2kK4HoL5"
      },
      "execution_count": null,
      "outputs": []
    },
    {
      "cell_type": "markdown",
      "source": [
        "### Treasure Island\n",
        "# Instructions\n",
        "\n",
        "Make your own \"Choose Your Own Adventure\" game. Use conditionals such as `if`, `else`, and `elif` statements to lay out the logic and the story's path in your program.\n",
        "\n",
        "[To write your code according to my story, you can use this flow chart from draw.io to help you.](https://www.draw.io/?lightbox=1&highlight=0000ff&edit=_blank&layers=1&nav=1&title=Treasure%20Island%20Conditional.drawio#Uhttps%3A%2F%2Fdrive.google.com%2Fuc%3Fid%3D1oDe4ehjWZipYRsVfeAx2HyB7LCQ8_Fvi%26export%3Ddownload)\n",
        "\n",
        "However, I think the fun part is writing your own story 😊\n",
        "\n",
        "🧞‍♂️ 🐊 🧙‍♂️ 🧟 🧚‍♂️ 🧝‍♂️ 🥷 🤖 👽 🙀\n",
        "\n",
        "That said if you'd like to continue with my example, feel free to use the text snippets below...\n",
        "Text Snippets from my example\n",
        "\n",
        "- 'You're at a crossroad. Where do you want to go? Type \"left\" or \"right\"'\n",
        "- 'You've come to a lake. There is an island in the middle of the lake. Type \"wait\" to wait for a boat. Type \"swim\" to swim across.'\n",
        "- \"You arrive at the island unharmed. There is a house with 3 doors. One red, one yellow and one blue. Which colour do you choose?\"\n",
        "- \"It's a room full of fire. Game Over.\"\n",
        "- \"You found the treasure! You Win!\"\n",
        "- \"You enter a room of beasts. Game Over.\"\n",
        "- \"You chose a door that doesn't exist. Game Over.\"\n",
        "- \"You get attacked by an angry trout. Game Over.\"\n",
        "- \"You fell into a hole. Game Over.\"\n",
        "\n",
        "# Escaping Characters\n",
        "If you want to use multiple sets of quotes inside a single string, you might have to \"escape\" some of them using the backslash `\\`. You can see this in my first sentence: 'You're at a crossroad...'. [More on escaping characters here.](https://www.w3schools.com/python/gloss_python_escape_characters.asp)\n",
        "\n",
        "# Extensions\n",
        "Have a think about how you might write your program to make a player's answers less case-sensitive. In other words, your code should work regardless of whether your user answers \"left\" or \"Left\".\n",
        "\n",
        "You can also add your own [ASCII art](https://ascii.co.uk/art). Just remember to add three single quotes `'''` at the start and at the end of your artwork to turn it into a multi-line string.\n",
        "\n",
        "**Solution**\n",
        "\n",
        "https://replit.com/@appbrewery/treasure-island-end#main.py"
      ],
      "metadata": {
        "id": "vLX-NMCxTEMt"
      }
    },
    {
      "cell_type": "code",
      "source": [
        "print('''\n",
        "*******************************************************************************\n",
        "          |                   |                  |                     |\n",
        " _________|________________.=\"\"_;=.______________|_____________________|_______\n",
        "|                   |  ,-\"_,=\"\"     `\"=.|                  |\n",
        "|___________________|__\"=._o`\"-._        `\"=.______________|___________________\n",
        "          |                `\"=._o`\"=._      _`\"=._                     |\n",
        " _________|_____________________:=._o \"=._.\"_.-=\"'\"=.__________________|_______\n",
        "|                   |    __.--\" , ; `\"=._o.\" ,-\"\"\"-._ \".   |\n",
        "|___________________|_._\"  ,. .` ` `` ,  `\"-._\"-._   \". '__|___________________\n",
        "          |           |o`\"=._` , \"` `; .\". ,  \"-._\"-._; ;              |\n",
        " _________|___________| ;`-.o`\"=._; .\" ` '`.\"\\` . \"-._ /_______________|_______\n",
        "|                   | |o;    `\"-.o`\"=._``  '` \" ,__.--o;   |\n",
        "|___________________|_| ;     (#) `-.o `\"=.`_.--\"_o.-; ;___|___________________\n",
        "____/______/______/___|o;._    \"      `\".o|o_.--\"    ;o;____/______/______/____\n",
        "/______/______/______/_\"=._o--._        ; | ;        ; ;/______/______/______/_\n",
        "____/______/______/______/__\"=._o--._   ;o|o;     _._;o;____/______/______/____\n",
        "/______/______/______/______/____\"=._o._; | ;_.--\"o.--\"_/______/______/______/_\n",
        "____/______/______/______/______/_____\"=.o|o_.--\"\"___/______/______/______/____\n",
        "/______/______/______/______/______/______/______/______/______/______/_____ /\n",
        "*******************************************************************************\n",
        "''')\n",
        "print(\"Welcome to Treasure Island.\\nYour mission is to find the treasure.\\n\")\n",
        "\n",
        "#https://www.draw.io/?lightbox=1&highlight=0000ff&edit=_blank&layers=1&nav=1&title=Treasure%20Island%20Conditional.drawio#Uhttps%3A%2F%2Fdrive.google.com%2Fuc%3Fid%3D1oDe4ehjWZipYRsVfeAx2HyB7LCQ8_Fvi%26export%3Ddownload\n",
        "\n",
        "#Write your code below this line 👇\n",
        "\n",
        "\"\"\"\n",
        "- 'You're at a crossroad. Where do you want to go? Type \"left\" or \"right\"'\n",
        "- 'You've come to a lake. There is an island in the middle of the lake. Type \"wait\" to wait for a boat. Type \"swim\" to swim across.'\n",
        "- \"You arrive at the island unharmed. There is a house with 3 doors. One red, one yellow and one blue. Which colour do you choose?\"\n",
        "- \"It's a room full of fire. Game Over.\"\n",
        "- \"You found the treasure! You Win!\"\n",
        "- \"You enter a room of beasts. Game Over.\"\n",
        "- \"You chose a door that doesn't exist. Game Over.\"\n",
        "- \"You get attacked by an angry trout. Game Over.\"\n",
        "- \"You fell into a hole. Game Over.\"\n",
        "\"\"\"\n",
        "choice1 = input(\"You're at a crossroad. Where do you want to go? \\nType \\\"left\\\" or \\\"right\\\": \").lower()\n",
        "if choice1 == \"left\":\n",
        "    choice2 = input(\"You've come to a lake. There is an island in the middle of the lake.\\nType \\\"wait\\\" to wait for a boat. Type \\\"swim\\\" to swim across. \").lower()\n",
        "    if choice2 == \"wait\":\n",
        "        choice3 = input(\"You arrive at the island unharmed. \\nThere is a house with 3 doors. One red, one yellow and one blue. \\nWhich colour do you choose? \").lower()\n",
        "        if choice3 == \"yellow\":\n",
        "            print(\"You found the treasure! You Win!\")\n",
        "        elif choice3 == \"red\":\n",
        "            print(\"It's a room full of fire. Game Over.\")\n",
        "        elif choice3 == \"blue\":\n",
        "            print(\"You enter a room of beasts. Game Over.\")\n",
        "        else:\n",
        "            print(\"You chose a door that doesn't exist. Game Over.\")\n",
        "    else:\n",
        "        print(\"You get attacked by an angry trout. Game Over.\")\n",
        "else:\n",
        "    print(\"You fell into a hole. Game Over.\")"
      ],
      "metadata": {
        "id": "oVuyjVAmS5Cj"
      },
      "execution_count": null,
      "outputs": []
    },
    {
      "cell_type": "markdown",
      "source": [
        "## Day 4 - Randomisation and Python Lists"
      ],
      "metadata": {
        "id": "lUVHEf7MZh93"
      }
    },
    {
      "cell_type": "markdown",
      "source": [
        "#### Random Module"
      ],
      "metadata": {
        "id": "miZKFE7nZuLX"
      }
    },
    {
      "cell_type": "code",
      "source": [
        "import random\n",
        "\n",
        "random_integer = random.randint(1, 10)\n",
        "\n",
        "# From 0.0 to 1.0\n",
        "random_float = random.random()"
      ],
      "metadata": {
        "id": "3yW8RECUUAkA"
      },
      "execution_count": null,
      "outputs": []
    },
    {
      "cell_type": "markdown",
      "source": [
        "### Lesson 13 - Heads or Tails\n",
        "You are going to write a virtual coin toss program. It will randomly tell the user \"Heads\" or \"Tails\".\n",
        "\n",
        "Important, the first letter should be capitalised and spelt exactly like in the example e.g. \"Heads\", not \"heads\".\n",
        "\n",
        "There are many ways of doing this. But to practice what we learnt in the last lesson, you should generate a random number, either 0 or 1. Then use that number to print out \"Heads\" or \"Tails\".\n",
        "\n",
        "e.g. 1 means Heads 0 means Tails\n",
        "Example Output\n",
        "\n",
        "    Heads\n",
        "\n",
        "    or\n",
        "\n",
        "    Tails"
      ],
      "metadata": {
        "id": "WMIqSX7VU14n"
      }
    },
    {
      "cell_type": "code",
      "source": [
        "import random\n",
        "\n",
        "number = random.randint(0, 1)\n",
        "if number == 1:\n",
        "    print(\"Heads\")\n",
        "else:\n",
        "    print(\"Tails\")"
      ],
      "metadata": {
        "id": "JkbSxwvoVGYW"
      },
      "execution_count": null,
      "outputs": []
    },
    {
      "cell_type": "markdown",
      "source": [
        "### Lesson 14 - Banker Roulette\n",
        "You are going to write a program that will select a random name from a list of names. The person selected will have to pay for everybody's food bill.\n",
        "\n",
        "Important: You are not allowed to use the choice() function.\n",
        "\n",
        "Line 1 splits the string names_string into individual names and puts them inside a List called names. For this to work, you must enter all the names as names followed by comma then space. e.g. name, name, name\n",
        "\n",
        "NOTE: Don't worry about getting hold of the input(), we've done the work behind the scenes to import everything.\n",
        "\n",
        "HINT: Assume that names looks like this: input: x, y, z, names = [\"x\", \"y\", \"z\"]\n",
        "Example Input\n",
        "\n",
        "    Angela, Ben, Jenny, Michael, Chloe\n",
        "\n",
        "Note: notice that there is a space between the comma and the next name.\n",
        "Example Output\n",
        "\n",
        "    Michael is going to buy the meal today!\n",
        "\n",
        "**Hints**\n",
        "\n",
        "1. You might need the help of the len() function. https://stackoverflow.com/questions/1712227/how-do-i-get-the-number-of-elements-in-a-list\n",
        "\n",
        "2. Remember that Lists start at index 0!\n",
        "\n"
      ],
      "metadata": {
        "id": "pc__c45rWAos"
      }
    },
    {
      "cell_type": "code",
      "source": [
        "import random\n",
        "\n",
        "# names_string = \"Angela, Ben, Jenny, Michael, Chloe\"\n",
        "names_string = input(\"Enter names separated by a comma and space: \")\n",
        "names = names_string.split(\", \")\n",
        "# The code above converts the input into an array seperating\n",
        "#each name in the input by a comma and space.\n",
        "# 🚨 Don't change the code above 👆\n",
        "\n",
        "# print(names)\n",
        "# Get one of the names from the index at random\n",
        "payer = random.randint(0, len(names) - 1)\n",
        "print(f\"{names[payer]} is going to buy the meal today!\")"
      ],
      "metadata": {
        "id": "43zOlNZ5Y_TU"
      },
      "execution_count": null,
      "outputs": []
    },
    {
      "cell_type": "markdown",
      "source": [
        "### Lesson 15 - Treasure Map\n",
        "You are going to write a program that will mark a spot on a map with an X.\n",
        "\n",
        "In the starting code, you will find a variable called map.\n",
        "\n",
        "This map contains a nested list. When map is printed this is what it looks like, notice the nesting:\n",
        "\n",
        "[['⬜️', '⬜️', '⬜️'],['⬜️', '⬜️', '⬜️'],['⬜️', '⬜️', '⬜️']]\n",
        "\n",
        "This is a bit hard to work with. So on lines 6 and 23, we've used this line of code print(f\"{row1}\\n{row2}\\n{row3}\") to format the 3 lists to be printed as a 3 by 3 grid, each on a new line.\n",
        "\n",
        "['⬜️', '⬜️', '⬜️']\n",
        "\n",
        "['⬜️', '⬜️', '⬜️']\n",
        "\n",
        "['⬜️', '⬜️', '⬜️']\n",
        "\n",
        "Now it looks a bit more like the coordinates of a real map:\n",
        "\n",
        "Map Coordinates Example\n",
        "\n",
        "Your job is to write a program that allows you to mark a square on the map using a letter-number system.\n",
        "\n",
        "List coordinates\n",
        "\n",
        "So an input of A3 should place an X at the position shown below:\n",
        "\n",
        "Exmaple location\n",
        "\n",
        "First, your program must take the user input and convert it to a usable format.\n",
        "\n",
        "Next, you need to use that input to update your nested list with an \"X\". Remember that your nested list map actually looks like this:\n",
        "\n",
        "[['⬜️', '⬜️', '⬜️'],['⬜️', '⬜️', '⬜️'],['⬜️', '⬜️', '⬜️']]\n",
        "\n",
        "Example Input 1\n",
        "\n",
        "B3\n",
        "\n",
        "Example Output 1\n",
        "\n",
        "Hiding your treasure! X marks the spot.\n",
        "\n",
        "    ['⬜️', '️⬜️', '️⬜️']\n",
        "    ['⬜️', '⬜️', '️⬜️']\n",
        "    ['⬜️️', 'X', '⬜️️']\n",
        "\n",
        "Example Input 2\n",
        "\n",
        "B1\n",
        "\n",
        "Example Output 2\n",
        "\n",
        "Hiding your treasure! X marks the spot.\n",
        "\n",
        "    ['⬜️', 'X', '️⬜️']\n",
        "    ['⬜️', '⬜️', '️⬜️']\n",
        "    ['⬜️️', '⬜️️', '⬜️️']\n",
        "\n",
        "**Hints**\n",
        "\n",
        "1. See if this List method helps you: https://www.w3schools.com/python/ref_list_index.asp\n",
        "\n",
        "2. Remember that nested Lists in Python are accessed from outside to inside. e.g. In the List below:\n",
        "\n",
        "    list = [['A', 'B, 'C'], 'E', 'F', 'G']\n",
        "\n",
        "    E is list[1] C is list[0][2]\n",
        "\n",
        "3. Check your formatting. This is correctly formatted:\n",
        "\n",
        "\n",
        "    ['⬜️', '⬜️', '⬜️']\n",
        "    ['⬜️', '⬜️', '⬜️']\n",
        "    ['⬜️', 'X', '⬜️']\n",
        "\n",
        "vs.\n",
        "\n",
        "Incorrectly formatted (missing a space before 'X and extra space after the X and extra space before the comma):\n",
        "\n",
        "    ['⬜️', '⬜️', '⬜️']\n",
        "    ['⬜️', '⬜️', '⬜️']\n",
        "    ['⬜️','X ' , '⬜️']\n"
      ],
      "metadata": {
        "id": "J23JFYhqaD9d"
      }
    },
    {
      "cell_type": "code",
      "source": [
        "line1 = [\"⬜️\",\"️⬜️\",\"️⬜️\"]\n",
        "line2 = [\"⬜️\",\"⬜️\",\"️⬜️\"]\n",
        "line3 = [\"⬜️️\",\"⬜️️\",\"⬜️️\"]\n",
        "map = [line1, line2, line3]\n",
        "print(\"Hiding your treasure! X marks the spot.\")\n",
        "position = input(\"Where do you want to put the treasure? \") # Where do you want to put the treasure?\n",
        "# 🚨 Don't change the code above 👆\n",
        "# Write your code below this row 👇\n",
        "\n",
        "# Replace the box at the coordinate with \"X\"\n",
        "# coordinate example: A2 = [1][0], where 2 = first index (row), A = second index (column)\n",
        "index1 = position[1]\n",
        "# Use ord() function to get integer representing the Unicode code point of the character of second index\n",
        "# A = 65; subtract 65 from ord(position[0].upper()) to find which position (index)/column to replace with \"X\"\n",
        "index2 = ord(position[0].upper()) - 65\n",
        "\n",
        "# index1 refers to which line to change\n",
        "# index2 refers to the which position in the list to change\n",
        "\n",
        "# match index1:\n",
        "#     case \"1\":\n",
        "#         line1[index2] = \"X\"\n",
        "#     case \"2\":\n",
        "#         line2[index2] = \"X\"\n",
        "#     case \"3\":\n",
        "#         line3[index2] = \"X\"\n",
        "\n",
        "# if index1 == \"1\":\n",
        "#     line1[index2] = \"X\"\n",
        "# elif index1 == \"2\":\n",
        "#     line2[index2] = \"X\"\n",
        "# elif index1 == \"3\":\n",
        "#     line3[index2] = \"X\"\n",
        "\n",
        "map[int(index1) - 1][index2] = \"X\"\n",
        "\n",
        "# Write your code above this row 👆\n",
        "# 🚨 Don't change the code below 👇\n",
        "print(f\"{line1}\\n{line2}\\n{line3}\")"
      ],
      "metadata": {
        "id": "qjg8rj5XbPmt"
      },
      "execution_count": null,
      "outputs": []
    }
  ]
}