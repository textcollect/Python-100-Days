{
  "nbformat": 4,
  "nbformat_minor": 0,
  "metadata": {
    "colab": {
      "provenance": [],
      "private_outputs": true,
      "authorship_tag": "ABX9TyNW1aq8CylR/+H2twIyq3JI",
      "include_colab_link": true
    },
    "kernelspec": {
      "name": "python3",
      "display_name": "Python 3"
    },
    "language_info": {
      "name": "python"
    }
  },
  "cells": [
    {
      "cell_type": "markdown",
      "metadata": {
        "id": "view-in-github",
        "colab_type": "text"
      },
      "source": [
        "<a href=\"https://colab.research.google.com/github/textcollect/Python-100-Days/blob/main/Beginner.ipynb\" target=\"_parent\"><img src=\"https://colab.research.google.com/assets/colab-badge.svg\" alt=\"Open In Colab\"/></a>"
      ]
    },
    {
      "cell_type": "markdown",
      "source": [
        "## **Day 1**"
      ],
      "metadata": {
        "id": "O5CilwN_CGI9"
      }
    },
    {
      "cell_type": "markdown",
      "source": [
        "### Python input function"
      ],
      "metadata": {
        "id": "LZAk8aCJLY_A"
      }
    },
    {
      "cell_type": "code",
      "execution_count": null,
      "metadata": {
        "id": "VgJBLsHX3egF"
      },
      "outputs": [],
      "source": [
        "# the input() function gets executed first to prompt for user input\n",
        "print(\"Hello \" + input(\"What is your name? \") + \"!\")"
      ]
    },
    {
      "cell_type": "code",
      "source": [
        "# print length of user input\n",
        "print(len(input(\"What is your name? \")))"
      ],
      "metadata": {
        "id": "2lcHfv1sBP9_"
      },
      "execution_count": null,
      "outputs": []
    },
    {
      "cell_type": "markdown",
      "source": [
        "### Variables"
      ],
      "metadata": {
        "id": "fCpgYPwdC264"
      }
    },
    {
      "cell_type": "code",
      "source": [
        "# Switch 2 variables a and b\n",
        "a = 1\n",
        "b = 2\n",
        "# `,` is used instead of `+` as `+` concatenates strings only, while 'a' and 'b' are integers\n",
        "print('a:', a , '\\nb:', b)\n",
        "\n",
        "# Assign a new temporary variable to one of the variables a or b\n",
        "temp = b\n",
        "# Re-assign b to value of a\n",
        "b = a\n",
        "# Re-assign value of a to previous value of b which is now stored in variable 'temp'\n",
        "a = temp\n",
        "\n",
        "print('New a:', a , '\\nNew b:', b)"
      ],
      "metadata": {
        "id": "Nr4ABQD2DRUG"
      },
      "execution_count": null,
      "outputs": []
    },
    {
      "cell_type": "markdown",
      "source": [
        "### Band Name Generator"
      ],
      "metadata": {
        "id": "8ahS9g3UIfOO"
      }
    },
    {
      "cell_type": "code",
      "source": [
        "#1. Create a greeting for your program.\n",
        "print(\"Welcome to the Band Name Generator.\")\n",
        "\n",
        "#2. Ask the user for the city that they grew up in.\n",
        "# Make sure the input cursor shows on a new line:\n",
        "city = input(\"What is the name of the city you grew up in?\\n\")\n",
        "\n",
        "#3. Ask the user for the name of a pet.\n",
        "pet = input(\"If you have a pet, what would you name it?\\n\")\n",
        "\n",
        "#4. Combine the name of their city and pet and show them their band name.\n",
        "# Use f-string with the print() function\n",
        "print(f\"Your band name could be {city} {pet}!\")\n",
        "\n",
        "# Solution: https://replit.com/@appbrewery/band-name-generator-end"
      ],
      "metadata": {
        "id": "b5CRrZXIIp0o"
      },
      "execution_count": null,
      "outputs": []
    },
    {
      "cell_type": "markdown",
      "source": [
        "## **Day 2**"
      ],
      "metadata": {
        "id": "fn-Vj-3eLJY6"
      }
    },
    {
      "cell_type": "markdown",
      "source": [
        "### Understanding Data Types and How to Manipulate Strings"
      ],
      "metadata": {
        "id": "PgEXQiN2zCK4"
      }
    },
    {
      "cell_type": "markdown",
      "source": [
        "#### Lesson 5 - Data Types\n",
        "Add the digits from user input and print its sum"
      ],
      "metadata": {
        "id": "qc4PnMb10DwL"
      }
    },
    {
      "cell_type": "code",
      "source": [
        "two_digit_number = input(\"Digits to add up: \")\n",
        "\n",
        "sum = 0\n",
        "for digit in two_digit_number:\n",
        "    sum += int(digit)\n",
        "print(f\"Sum: {sum}\")"
      ],
      "metadata": {
        "id": "PhP9Q9Opy3Eg"
      },
      "execution_count": null,
      "outputs": []
    },
    {
      "cell_type": "markdown",
      "source": [
        "#### Lesson 6 - BMI Calculator\n",
        "Write a program that calculates the Body Mass Index (BMI) from a user's weight and height.\n",
        "The BMI is calculated by dividing a person's weight (in kg) by the square of their height (in m).\n",
        "\n",
        "NOTE: You should convert the bmi to a whole number and print out a whole number in order to pass all the tests."
      ],
      "metadata": {
        "id": "8HOXlC7Vz3yx"
      }
    },
    {
      "cell_type": "code",
      "source": [
        "# 1st input: enter height in meters e.g: 1.65\n",
        "height = input(\"Enter height in meters: \")\n",
        "# 2nd input: enter weight in kilograms e.g: 72\n",
        "weight = input(\"Enter weight in kilograms: \")\n",
        "# 🚨 Don't change the code above 👆\n",
        "# Write your code below this line 👇\n",
        "bmi = float(weight) / (float(height) ** 2)\n",
        "\n",
        "# Cast resulting bmi as an int\n",
        "print(int(bmi))"
      ],
      "metadata": {
        "id": "xDIpJtA5zeuY"
      },
      "execution_count": null,
      "outputs": []
    },
    {
      "cell_type": "markdown",
      "source": [
        "#### Lesson 7 - Life in Weeks\n",
        "Create a program using maths and f-Strings that tells us how many weeks we have left, if we live until 90 years old.\n",
        "\n",
        "It will take your current age as the input and output a message with our time left in this format:\n",
        "\n",
        "You have x weeks left.\n",
        "\n",
        "Where x is replaced with the actual calculated number of weeks the input age has left until age 90.\n",
        "\n",
        "Warning your output should match the Example Output format exactly, even the positions of the commas and full stops.\n",
        "\n",
        "Example Input:\n",
        "56\n",
        "\n",
        "Example Output:\n",
        "You have 1768 weeks left."
      ],
      "metadata": {
        "id": "9cHh5XXY2y9u"
      }
    },
    {
      "cell_type": "code",
      "source": [
        "age = input(\"Current age: \")\n",
        "\n",
        "death = 90\n",
        "years_left = death - int(age)\n",
        "# 1 year = 52 weeks\n",
        "weeks_left = years_left * 52\n",
        "print(f\"You have {weeks_left} weeks left.\")"
      ],
      "metadata": {
        "id": "Xz6FoB483Q3a"
      },
      "execution_count": null,
      "outputs": []
    }
  ]
}